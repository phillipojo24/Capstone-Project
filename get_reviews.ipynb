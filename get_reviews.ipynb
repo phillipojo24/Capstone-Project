{
 "cells": [
  {
   "cell_type": "code",
   "execution_count": 1,
   "metadata": {},
   "outputs": [],
   "source": [
    "#pip install -U selenium"
   ]
  },
  {
   "cell_type": "code",
   "execution_count": 2,
   "metadata": {},
   "outputs": [],
   "source": [
    "import sys\n",
    "import csv\n",
    "from selenium import webdriver\n",
    "from selenium.webdriver.common.keys import Keys\n",
    "import time \n",
    "from time import sleep"
   ]
  },
  {
   "cell_type": "code",
   "execution_count": 3,
   "metadata": {},
   "outputs": [],
   "source": [
    "#Name the csv file you want to save your collected data in\n",
    "#filename = \"resturantRank10.csv\"\n"
   ]
  },
  {
   "cell_type": "code",
   "execution_count": 4,
   "metadata": {},
   "outputs": [],
   "source": [
    "# default number of scraped pages\n",
    "num_page = 10\n",
    "\n",
    "# default tripadvisor website of restaurant\n",
    "url = \"https://www.tripadvisor.com\""
   ]
  },
  {
   "cell_type": "code",
   "execution_count": 5,
   "metadata": {},
   "outputs": [
    {
     "output_type": "stream",
     "name": "stdout",
     "text": "Requirement already satisfied: webdriver-manager in /Users/phillipojo24/opt/anaconda3/envs/learn-env/lib/python3.6/site-packages (3.3.0)\nRequirement already satisfied: requests in /Users/phillipojo24/opt/anaconda3/envs/learn-env/lib/python3.6/site-packages (from webdriver-manager) (2.22.0)\nRequirement already satisfied: configparser in /Users/phillipojo24/opt/anaconda3/envs/learn-env/lib/python3.6/site-packages (from webdriver-manager) (5.0.2)\nRequirement already satisfied: crayons in /Users/phillipojo24/opt/anaconda3/envs/learn-env/lib/python3.6/site-packages (from webdriver-manager) (0.4.0)\nRequirement already satisfied: certifi>=2017.4.17 in /Users/phillipojo24/opt/anaconda3/envs/learn-env/lib/python3.6/site-packages (from requests->webdriver-manager) (2020.4.5.1)\nRequirement already satisfied: urllib3!=1.25.0,!=1.25.1,<1.26,>=1.21.1 in /Users/phillipojo24/opt/anaconda3/envs/learn-env/lib/python3.6/site-packages (from requests->webdriver-manager) (1.24.2)\nRequirement already satisfied: idna<2.9,>=2.5 in /Users/phillipojo24/opt/anaconda3/envs/learn-env/lib/python3.6/site-packages (from requests->webdriver-manager) (2.8)\nRequirement already satisfied: chardet<3.1.0,>=3.0.2 in /Users/phillipojo24/opt/anaconda3/envs/learn-env/lib/python3.6/site-packages (from requests->webdriver-manager) (3.0.4)\nRequirement already satisfied: colorama in /Users/phillipojo24/opt/anaconda3/envs/learn-env/lib/python3.6/site-packages (from crayons->webdriver-manager) (0.4.4)\nNote: you may need to restart the kernel to use updated packages.\n"
    }
   ],
   "source": [
    "pip install webdriver-manager"
   ]
  },
  {
   "cell_type": "code",
   "execution_count": 235,
   "metadata": {},
   "outputs": [
    {
     "output_type": "stream",
     "name": "stderr",
     "text": "[WDM] - ====== WebDriver manager ======\n\n\n[WDM] - Current google-chrome version is 88.0.4324\n[WDM] - Get LATEST driver version for 88.0.4324\n[WDM] - Driver [/Users/phillipojo24/.wdm/drivers/chromedriver/mac64/88.0.4324.96/chromedriver] found in cache\n"
    }
   ],
   "source": [
    "from webdriver_manager.chrome import ChromeDriverManager\n",
    "\n",
    "driver = webdriver.Chrome(ChromeDriverManager().install())\n",
    "driver.get(url)"
   ]
  },
  {
   "cell_type": "code",
   "execution_count": 237,
   "metadata": {},
   "outputs": [],
   "source": [
    "#Diffrent Location Inputs\n",
    "driver.find_element_by_xpath(\"//*[@id='lithium-root']/main/div[3]/div/div/div[2]/div[2]/div[2]/form/input[1]\").send_keys(\"San Diego, California\")\n"
   ]
  },
  {
   "cell_type": "code",
   "execution_count": 177,
   "metadata": {},
   "outputs": [],
   "source": [
    "#Select first name on list\n",
    "driver.find_element_by_xpath(\"/html/body/div[1]/main/div[3]/div/div/div[2]/div[2]/div[2]/form/input[1]\").send_keys(Keys.ENTER)"
   ]
  },
  {
   "cell_type": "code",
   "execution_count": 178,
   "metadata": {},
   "outputs": [],
   "source": [
    "#Slect First name on list\n",
    "driver.find_element_by_xpath(\"/html/body/div[2]/div/div[2]/div/div/div/div/div[1]/div/div[1]/div/div[3]/div/div[1]/div/div[2]/div/div/div/div/div/div/div[2]/div[1]/div[1]/span\").click()"
   ]
  },
  {
   "cell_type": "code",
   "execution_count": 179,
   "metadata": {},
   "outputs": [
    {
     "output_type": "execute_result",
     "data": {
      "text/plain": "['CDwindow-6C41980F1BF8095A111C9701F8FB6A2F',\n 'CDwindow-69514DA885F1C2F6FC2D5A9B255FE530']"
     },
     "metadata": {},
     "execution_count": 179
    }
   ],
   "source": [
    "handles = driver.window_handles\n",
    "handles"
   ]
  },
  {
   "cell_type": "code",
   "execution_count": 180,
   "metadata": {},
   "outputs": [],
   "source": [
    "if len(handles) == 1:\n",
    "\n",
    "    pass\n",
    "\n",
    "else: \n",
    "    \n",
    "    if driver.current_window_handle == handles[0]:\n",
    "        driver.close()"
   ]
  },
  {
   "cell_type": "code",
   "execution_count": 181,
   "metadata": {},
   "outputs": [
    {
     "output_type": "stream",
     "name": "stderr",
     "text": "/Users/phillipojo24/opt/anaconda3/envs/learn-env/lib/python3.6/site-packages/ipykernel_launcher.py:2: DeprecationWarning: use driver.switch_to.window instead\n  \n"
    }
   ],
   "source": [
    "handles = driver.window_handles\n",
    "driver.switch_to_window(handles[0])"
   ]
  },
  {
   "cell_type": "code",
   "execution_count": 182,
   "metadata": {},
   "outputs": [
    {
     "output_type": "execute_result",
     "data": {
      "text/plain": "'CDwindow-69514DA885F1C2F6FC2D5A9B255FE530'"
     },
     "metadata": {},
     "execution_count": 182
    }
   ],
   "source": [
    "driver.current_window_handle"
   ]
  },
  {
   "cell_type": "code",
   "execution_count": 183,
   "metadata": {},
   "outputs": [],
   "source": [
    "#Handle Pop Ups\n",
    "\n",
    "try: \n",
    "    driver.find_element_by_xpath('/html/body/div[1]/main/div[2]/div/div/div[4]/a').click()\n",
    "    \n",
    "    handles = driver.window_handles\n",
    "    if len(handles) > 1:\n",
    "        driver.switch_to_window(handles[1])\n",
    "        if driver.current_window_handle == handles[0]:\n",
    "            driver.close()\n",
    "\n",
    "    \n",
    "\n",
    "except:\n",
    "\n",
    "    driver.find_element_by_xpath('//*[@id=\"lithium-root\"]/main/div[2]/div/div/div[4]/a').click()"
   ]
  },
  {
   "cell_type": "code",
   "execution_count": 184,
   "metadata": {},
   "outputs": [
    {
     "output_type": "execute_result",
     "data": {
      "text/plain": "['CDwindow-69514DA885F1C2F6FC2D5A9B255FE530']"
     },
     "metadata": {},
     "execution_count": 184
    }
   ],
   "source": [
    "handles\n",
    "#driver.current_window_handle"
   ]
  },
  {
   "cell_type": "code",
   "execution_count": 195,
   "metadata": {},
   "outputs": [],
   "source": [
    "#Load the Top 30 Attractions (Dynamic page so the buttons could apprear diffrent each time)\n",
    "try:\n",
    "     driver.find_element_by_xpath('//*[@id=\"lithium-root\"]/main/div/div[2]/div/div/div/div/span/div[2]/div[2]/div/section[4]/div/div/span/div/div[3]/button').click()\n",
    "     \n",
    "except:\n",
    "    \n",
    "    pass \n",
    "    \n",
    "try:\n",
    "    driver.find_element_by_xpath('//*[@id=\"lithium-root\"]/main/div[6]/div/div/div/div[6]/div[3]').click()\n",
    "except:\n",
    "    \n",
    "    pass"
   ]
  },
  {
   "cell_type": "code",
   "execution_count": 138,
   "metadata": {},
   "outputs": [
    {
     "output_type": "stream",
     "name": "stdout",
     "text": "1. USS Midway Museum\n2. La Jolla Cove\n3. San Diego Zoo\n4. Mt. Soledad National Veterans Memorial\n5. Balboa Park\n6. La Jolla Shores Park\n7. Torrey Pines Gliderport\n8. Children's Pool\n9. Sunset Cliffs Natural Park\n10. Birch Aquarium at Scripps\n11. La Jolla Caves\n12. Petco Park\n13. Windansea Beach\n14. San Diego Factory Outlet Center\n15. Torrey Pines State Natural Reserve\n16. Cabrillo National Monument\n17. San Diego Mormon Temple\n18. Coronado Bridge\n19. Ellen Browning Scripps Park\n20. Salk Institute\n21. Point Loma\n22. Little Italy\n23. University of California San Diego\n24. Old Town San Diego\n25. Girard Avenue and Prospect Street\n26. Mission Beach\n27. Maritime Museum of San Diego\n28. Shell Beach Tide Pools\n29. Pacific Beach\n30. Ho Chi Minh Trail\n"
    }
   ],
   "source": [
    "attractions = driver.find_elements_by_class_name('_1cD4PtKq')\n",
    "\n",
    "if len(attractions) <= 1:\n",
    "    attractions = driver.find_elements_by_class_name('_255i5rcQ')\n",
    "    for a in attractions:\n",
    "        print(a.text) \n",
    "            \n",
    "else: \n",
    "            \n",
    "    for a in attractions:\n",
    "        print(a.text)\n",
    "      "
   ]
  },
  {
   "cell_type": "code",
   "execution_count": 196,
   "metadata": {},
   "outputs": [
    {
     "output_type": "execute_result",
     "data": {
      "text/plain": "[<selenium.webdriver.remote.webelement.WebElement (session=\"1e6c6da1b7feed3a9635d55c4018f51a\", element=\"4be3e2b5-c15f-4b9f-894d-69cc31c52334\")>,\n <selenium.webdriver.remote.webelement.WebElement (session=\"1e6c6da1b7feed3a9635d55c4018f51a\", element=\"77f0595a-4ada-4f14-943e-1ab5050a4960\")>,\n <selenium.webdriver.remote.webelement.WebElement (session=\"1e6c6da1b7feed3a9635d55c4018f51a\", element=\"9776cd23-c0f4-43f3-9900-c3505732f695\")>,\n <selenium.webdriver.remote.webelement.WebElement (session=\"1e6c6da1b7feed3a9635d55c4018f51a\", element=\"9bef2328-9083-4a48-ae4a-4a5c142e2f24\")>,\n <selenium.webdriver.remote.webelement.WebElement (session=\"1e6c6da1b7feed3a9635d55c4018f51a\", element=\"dc8736da-1e5b-4279-8c2c-b14e3f405486\")>,\n <selenium.webdriver.remote.webelement.WebElement (session=\"1e6c6da1b7feed3a9635d55c4018f51a\", element=\"74d897da-9947-40e5-ba49-b8e9be217f1f\")>,\n <selenium.webdriver.remote.webelement.WebElement (session=\"1e6c6da1b7feed3a9635d55c4018f51a\", element=\"6da7f55f-9e36-440b-b806-91519dfdfda9\")>,\n <selenium.webdriver.remote.webelement.WebElement (session=\"1e6c6da1b7feed3a9635d55c4018f51a\", element=\"464a43c6-03cd-4ae8-8816-f63c6fc8b93c\")>,\n <selenium.webdriver.remote.webelement.WebElement (session=\"1e6c6da1b7feed3a9635d55c4018f51a\", element=\"30e60ff2-f99d-4447-b6f1-2b825ead5036\")>,\n <selenium.webdriver.remote.webelement.WebElement (session=\"1e6c6da1b7feed3a9635d55c4018f51a\", element=\"abfe68a2-a7a2-417e-870e-138afbdd7f78\")>,\n <selenium.webdriver.remote.webelement.WebElement (session=\"1e6c6da1b7feed3a9635d55c4018f51a\", element=\"245588b2-219f-4ccf-9580-3d6389fcdcbe\")>,\n <selenium.webdriver.remote.webelement.WebElement (session=\"1e6c6da1b7feed3a9635d55c4018f51a\", element=\"2fe6bcd4-abc3-43b5-9be2-557929a03262\")>,\n <selenium.webdriver.remote.webelement.WebElement (session=\"1e6c6da1b7feed3a9635d55c4018f51a\", element=\"d6885e84-3261-4fa9-a4e2-84db801d7696\")>,\n <selenium.webdriver.remote.webelement.WebElement (session=\"1e6c6da1b7feed3a9635d55c4018f51a\", element=\"533a7181-855b-4f1c-9f0e-afa245db0cfd\")>,\n <selenium.webdriver.remote.webelement.WebElement (session=\"1e6c6da1b7feed3a9635d55c4018f51a\", element=\"9a763085-0172-4de4-b40d-b1741ab5aacf\")>,\n <selenium.webdriver.remote.webelement.WebElement (session=\"1e6c6da1b7feed3a9635d55c4018f51a\", element=\"7b38266f-4640-4f1f-ad5f-d2adcc0536d6\")>,\n <selenium.webdriver.remote.webelement.WebElement (session=\"1e6c6da1b7feed3a9635d55c4018f51a\", element=\"911acb70-8ce4-4afb-beb8-e99857844987\")>,\n <selenium.webdriver.remote.webelement.WebElement (session=\"1e6c6da1b7feed3a9635d55c4018f51a\", element=\"074ca83c-ff08-427a-b945-28c3a77af3d8\")>,\n <selenium.webdriver.remote.webelement.WebElement (session=\"1e6c6da1b7feed3a9635d55c4018f51a\", element=\"2e643b43-f3d1-4d2e-bab7-264bb36f2e8b\")>,\n <selenium.webdriver.remote.webelement.WebElement (session=\"1e6c6da1b7feed3a9635d55c4018f51a\", element=\"51e15a42-ec87-4f7b-9686-adc8d829bee7\")>,\n <selenium.webdriver.remote.webelement.WebElement (session=\"1e6c6da1b7feed3a9635d55c4018f51a\", element=\"c1700ab9-e63d-40e9-a1bb-7260a677b5fa\")>,\n <selenium.webdriver.remote.webelement.WebElement (session=\"1e6c6da1b7feed3a9635d55c4018f51a\", element=\"6d23c2c0-78ae-4ba6-9e05-f50f91bf487e\")>,\n <selenium.webdriver.remote.webelement.WebElement (session=\"1e6c6da1b7feed3a9635d55c4018f51a\", element=\"f7621381-57b0-48a6-8109-bc556ff46c4d\")>,\n <selenium.webdriver.remote.webelement.WebElement (session=\"1e6c6da1b7feed3a9635d55c4018f51a\", element=\"6bb7be69-389d-4522-a9a2-c13f07259009\")>,\n <selenium.webdriver.remote.webelement.WebElement (session=\"1e6c6da1b7feed3a9635d55c4018f51a\", element=\"117f83c7-3514-47cf-9dcc-eb0bf1678fd4\")>,\n <selenium.webdriver.remote.webelement.WebElement (session=\"1e6c6da1b7feed3a9635d55c4018f51a\", element=\"41b74506-d41b-4dac-a688-46e5efdbb460\")>,\n <selenium.webdriver.remote.webelement.WebElement (session=\"1e6c6da1b7feed3a9635d55c4018f51a\", element=\"13174500-4f21-4263-82d7-d66ceaae00fd\")>,\n <selenium.webdriver.remote.webelement.WebElement (session=\"1e6c6da1b7feed3a9635d55c4018f51a\", element=\"4037ac73-7fef-44e7-a715-7e0440fbddcc\")>,\n <selenium.webdriver.remote.webelement.WebElement (session=\"1e6c6da1b7feed3a9635d55c4018f51a\", element=\"fe1d29f5-64b9-443e-a44c-6ec8ad210241\")>,\n <selenium.webdriver.remote.webelement.WebElement (session=\"1e6c6da1b7feed3a9635d55c4018f51a\", element=\"57f06cb7-0eae-45c8-8ad7-caf45efcb8ed\")>]"
     },
     "metadata": {},
     "execution_count": 196
    }
   ],
   "source": [
    "test = driver.find_elements_by_class_name('_255i5rcQ')\n",
    "test"
   ]
  },
  {
   "cell_type": "code",
   "execution_count": 197,
   "metadata": {},
   "outputs": [
    {
     "output_type": "execute_result",
     "data": {
      "text/plain": "[<selenium.webdriver.remote.webelement.WebElement (session=\"09217c6567946bec589897d7d2e2c38e\", element=\"3c565042-2d6f-439b-83bf-2c0a98b55970\")>,\n <selenium.webdriver.remote.webelement.WebElement (session=\"09217c6567946bec589897d7d2e2c38e\", element=\"143c6b17-9109-47a6-ab6b-1622f070f245\")>,\n <selenium.webdriver.remote.webelement.WebElement (session=\"09217c6567946bec589897d7d2e2c38e\", element=\"627863e1-ce37-423a-afa8-fb869bfbf5cd\")>,\n <selenium.webdriver.remote.webelement.WebElement (session=\"09217c6567946bec589897d7d2e2c38e\", element=\"52b235f1-3ec4-4f36-93c4-90937be6a171\")>,\n <selenium.webdriver.remote.webelement.WebElement (session=\"09217c6567946bec589897d7d2e2c38e\", element=\"3de87e20-2a13-440a-9a88-a15b2f903d28\")>,\n <selenium.webdriver.remote.webelement.WebElement (session=\"09217c6567946bec589897d7d2e2c38e\", element=\"b377948e-0af5-4260-8ac2-09e45fac9932\")>,\n <selenium.webdriver.remote.webelement.WebElement (session=\"09217c6567946bec589897d7d2e2c38e\", element=\"d9043a3d-05d4-4ab9-8853-7f25a23799c2\")>,\n <selenium.webdriver.remote.webelement.WebElement (session=\"09217c6567946bec589897d7d2e2c38e\", element=\"a79e7e7f-60f1-4f64-87a8-98ea87deece9\")>,\n <selenium.webdriver.remote.webelement.WebElement (session=\"09217c6567946bec589897d7d2e2c38e\", element=\"64888cf9-7222-4949-a3ee-7bf0f8dccdd1\")>,\n <selenium.webdriver.remote.webelement.WebElement (session=\"09217c6567946bec589897d7d2e2c38e\", element=\"b846fc69-cf2d-40ca-9791-537126b4fa89\")>,\n <selenium.webdriver.remote.webelement.WebElement (session=\"09217c6567946bec589897d7d2e2c38e\", element=\"ad16f0f7-c3e8-4198-a82e-6120e89d182f\")>,\n <selenium.webdriver.remote.webelement.WebElement (session=\"09217c6567946bec589897d7d2e2c38e\", element=\"44226ddd-0bc3-4427-84e4-f7a0a7cf6e98\")>,\n <selenium.webdriver.remote.webelement.WebElement (session=\"09217c6567946bec589897d7d2e2c38e\", element=\"b25f4f88-af38-420e-9d32-cbb4ab5ee7f6\")>,\n <selenium.webdriver.remote.webelement.WebElement (session=\"09217c6567946bec589897d7d2e2c38e\", element=\"e2977732-5fcb-4369-a806-319e80c1bc51\")>,\n <selenium.webdriver.remote.webelement.WebElement (session=\"09217c6567946bec589897d7d2e2c38e\", element=\"69df4ac3-9bc1-4b98-863f-cf6ec191b030\")>,\n <selenium.webdriver.remote.webelement.WebElement (session=\"09217c6567946bec589897d7d2e2c38e\", element=\"dd9d6973-37ef-4bbd-b783-0061fe813e81\")>,\n <selenium.webdriver.remote.webelement.WebElement (session=\"09217c6567946bec589897d7d2e2c38e\", element=\"09928b7b-900e-4df3-852d-95cd18b6a395\")>,\n <selenium.webdriver.remote.webelement.WebElement (session=\"09217c6567946bec589897d7d2e2c38e\", element=\"0a0facca-5fd6-464c-ae80-44ce3ab56af1\")>,\n <selenium.webdriver.remote.webelement.WebElement (session=\"09217c6567946bec589897d7d2e2c38e\", element=\"66715ac9-07b2-467d-bed6-62eded75f24c\")>,\n <selenium.webdriver.remote.webelement.WebElement (session=\"09217c6567946bec589897d7d2e2c38e\", element=\"8e4a062c-a636-480d-bf61-f46f7be55027\")>,\n <selenium.webdriver.remote.webelement.WebElement (session=\"09217c6567946bec589897d7d2e2c38e\", element=\"8067e44b-03b2-4144-8356-02ef9157a462\")>,\n <selenium.webdriver.remote.webelement.WebElement (session=\"09217c6567946bec589897d7d2e2c38e\", element=\"3c6e4935-751d-4a53-a7a2-9a77b36918a6\")>,\n <selenium.webdriver.remote.webelement.WebElement (session=\"09217c6567946bec589897d7d2e2c38e\", element=\"c976dee8-6819-4870-9ebf-17d5e6596ac9\")>,\n <selenium.webdriver.remote.webelement.WebElement (session=\"09217c6567946bec589897d7d2e2c38e\", element=\"ed37ab79-36fe-40c2-a7c2-80161a26845f\")>,\n <selenium.webdriver.remote.webelement.WebElement (session=\"09217c6567946bec589897d7d2e2c38e\", element=\"ea3b14d3-469a-4066-8e7b-8f08d1f3f07a\")>,\n <selenium.webdriver.remote.webelement.WebElement (session=\"09217c6567946bec589897d7d2e2c38e\", element=\"3ac565c4-8ddf-4400-8d04-2e64a0543b68\")>,\n <selenium.webdriver.remote.webelement.WebElement (session=\"09217c6567946bec589897d7d2e2c38e\", element=\"1494dd2d-2c84-4195-ae84-9a82bd1a0ca8\")>,\n <selenium.webdriver.remote.webelement.WebElement (session=\"09217c6567946bec589897d7d2e2c38e\", element=\"8dceb4ea-f319-45de-88a4-2c101e77ac1c\")>,\n <selenium.webdriver.remote.webelement.WebElement (session=\"09217c6567946bec589897d7d2e2c38e\", element=\"1e6afc0a-878f-4df7-a08c-c1e82b4e568c\")>,\n <selenium.webdriver.remote.webelement.WebElement (session=\"09217c6567946bec589897d7d2e2c38e\", element=\"8233f516-78fb-4d42-b717-4a5660328699\")>]"
     },
     "metadata": {},
     "execution_count": 197
    }
   ],
   "source": [
    "attractions"
   ]
  },
  {
   "cell_type": "code",
   "execution_count": 232,
   "metadata": {},
   "outputs": [
    {
     "output_type": "execute_result",
     "data": {
      "text/plain": "['CDwindow-69514DA885F1C2F6FC2D5A9B255FE530']"
     },
     "metadata": {},
     "execution_count": 232
    }
   ],
   "source": [
    "current_handles = driver.window_handles\n",
    "current_handles"
   ]
  },
  {
   "cell_type": "code",
   "execution_count": 233,
   "metadata": {},
   "outputs": [
    {
     "output_type": "stream",
     "name": "stderr",
     "text": "/Users/phillipojo24/opt/anaconda3/envs/learn-env/lib/python3.6/site-packages/ipykernel_launcher.py:1: DeprecationWarning: use driver.switch_to.window instead\n  \"\"\"Entry point for launching an IPython kernel.\n"
    }
   ],
   "source": [
    "driver.switch_to_window(current_handles[0])"
   ]
  },
  {
   "cell_type": "code",
   "execution_count": 234,
   "metadata": {},
   "outputs": [
    {
     "output_type": "stream",
     "name": "stderr",
     "text": "/Users/phillipojo24/opt/anaconda3/envs/learn-env/lib/python3.6/site-packages/ipykernel_launcher.py:21: DeprecationWarning: use driver.switch_to.window instead\n/Users/phillipojo24/opt/anaconda3/envs/learn-env/lib/python3.6/site-packages/ipykernel_launcher.py:44: DeprecationWarning: use driver.switch_to.window instead\n"
    }
   ],
   "source": [
    "#Name the csv file\n",
    "filename = \"San_Diego.csv\"\n",
    "\n",
    "#Coloumn name for csv file\n",
    "headers = \"Attraction,Address,Rank,Rating,Number_of_Reviews,Label\\n\"\n",
    "\n",
    "#Open file and write\n",
    "f = open(filename, 'w')\n",
    "f.write(headers)\n",
    "\n",
    "for attrs in test:\n",
    "        \n",
    "                attrs.click()\n",
    "\n",
    "                time.sleep(4)\n",
    "\n",
    "                current_handles = driver.window_handles\n",
    "\n",
    "                time.sleep(2)\n",
    "        \n",
    "                driver.switch_to_window(current_handles[1])\n",
    "\n",
    "       \n",
    "\n",
    "                attraction = driver.find_element_by_xpath('//*[@id=\"HEADING\"]').text\n",
    "    \n",
    "                rank = driver.find_element_by_tag_name('b').text.strip('#')\n",
    "\n",
    "                num_review = driver.find_element_by_xpath('//*[@id=\"REVIEWS\"]/div/span[1]/span[2]/span[1]').text.strip(\",,Reviews\").replace(\",\",\"\")\n",
    "\n",
    "                try:\n",
    "                        rating = driver.find_element_by_class_name('_2Hy7Xxdm').text\n",
    "                except:\n",
    "                        pass\n",
    "\n",
    "                address = driver.find_element_by_xpath('/html/body/div[2]/div[2]/div[2]/div[9]/div/div/div[2]/div[1]/div[2]/div[2]/div[1]/span[2]').text\n",
    "\n",
    "                label = driver.find_element_by_class_name('_3RTCF0T0').text\n",
    "\n",
    "                f.write(attraction + \",\" + address.replace(\",\", \"|\") + \",\" + rank + \",\" + rating + \",\" + num_review.strip(',') + \",\" + label.replace(\",\", \"|\") + \"\\n\")\n",
    "\n",
    "        \n",
    "                driver.close()\n",
    "                driver.switch_to_window(current_handles[0])\n",
    "        \n",
    "        \n",
    "f.close()"
   ]
  }
 ],
 "metadata": {
  "language_info": {
   "codemirror_mode": {
    "name": "ipython",
    "version": 3
   },
   "file_extension": ".py",
   "mimetype": "text/x-python",
   "name": "python",
   "nbconvert_exporter": "python",
   "pygments_lexer": "ipython3",
   "version": "3.6.9-final"
  },
  "orig_nbformat": 2,
  "kernelspec": {
   "name": "python36964bitlearnenvconda20d18a491eb34b2d993dc02b8702d9af",
   "display_name": "Python 3.6.9 64-bit ('learn-env': conda)"
  }
 },
 "nbformat": 4,
 "nbformat_minor": 2
}