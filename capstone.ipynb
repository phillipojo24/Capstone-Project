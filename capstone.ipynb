{
 "cells": [
  {
   "cell_type": "code",
   "execution_count": 2,
   "metadata": {},
   "outputs": [],
   "source": [
    "import pandas as pd\n",
    "from IPython.display import display, HTML\n",
    "import requests\n",
    "import lxml.html as lh\n",
    "import urllib\n",
    "from time import sleep"
   ]
  },
  {
   "cell_type": "code",
   "execution_count": 31,
   "metadata": {},
   "outputs": [
    {
     "output_type": "execute_result",
     "data": {
      "text/plain": "                                Attraction  \\\n0                        USS Midway Museum   \n1   Mt. Soledad National Veterans Memorial   \n2                            La Jolla Cove   \n3                            San Diego Zoo   \n4   Mt. Soledad National Veterans Memorial   \n5                              Balboa Park   \n6                     La Jolla Shores Park   \n7                  Torrey Pines Gliderport   \n8                          Children's Pool   \n9               Sunset Cliffs Natural Park   \n10               Birch Aquarium at Scripps   \n11                          La Jolla Caves   \n12                              Petco Park   \n13                         Windansea Beach   \n14         San Diego Factory Outlet Center   \n15      Torrey Pines State Natural Reserve   \n16              Cabrillo National Monument   \n17                 San Diego Mormon Temple   \n18                         Coronado Bridge   \n19             Ellen Browning Scripps Park   \n20                          Salk Institute   \n21                              Point Loma   \n22                            Little Italy   \n23      University of California San Diego   \n24                      Old Town San Diego   \n25       Girard Avenue and Prospect Street   \n26                           Mission Beach   \n27            Maritime Museum of San Diego   \n28                  Shell Beach Tide Pools   \n29                           Pacific Beach   \n\n                                              Address  Rank  Rating  \\\n0        910 N Harbor Drive| San Diego| CA 92101-5811     1     5.0   \n1   6905 La Jolla Scenic Drive South| La Jolla| Sa...     2     5.0   \n2   1100 Coast Blvd| La Jolla| San Diego| CA 92037...     1     4.5   \n3     2929 Zoo Drive Balboa Park| San Diego| CA 92101     4     4.5   \n4   6905 La Jolla Scenic Drive South| La Jolla| Sa...     2     4.5   \n5             1549 El Prado| San Diego| CA 92101-1660     3     4.5   \n6   8300 Camino del Oro| La Jolla| San Diego| CA 9...     7     4.5   \n7   2800 Torrey Pines Scenic Dr| La Jolla| San Die...     4     4.5   \n8   850 Coast Blvd| La Jolla| San Diego| CA 92037-...    10     4.5   \n9   1253 Sunset Cliffs Blvd| San Diego| CA 92107-4015    10     4.5   \n10  2300 Expedition Way Scripps Institute| La Joll...    14     4.5   \n11                            La Jolla| San Diego| CA    11     4.5   \n12            100 Park Blvd| San Diego| CA 92101-7405     8     4.5   \n13  6800 Neptune Place| La Jolla| San Diego| CA 92083     5     4.5   \n14   Camino de la Plaza at Highway I-5| San Diego| CA    80     4.0   \n15       12600 N Torrey Pines Rd| San Diego| CA 92037     5     4.5   \n16  1800 Cabrillo Memorial Dr Point Loma| San Dieg...    14     4.5   \n17  7474 Charmant Dr| La Jolla| San Diego| CA 9212...    13     4.5   \n18  State Route 75 South Embarcadero| San Diego| C...    28     4.5   \n19  1133 Coast Blvd| La Jolla| San Diego| CA 92037...     6     4.5   \n20  10010 N Torrey Pines Rd| La Jolla| San Diego| ...     9     4.5   \n21                                      San Diego| CA    13     4.5   \n22  1668 Columbia St From Laurel south to West A S...    45     4.5   \n23  9500 Gilman Dr| La Jolla| San Diego| CA 92093-...     8     4.5   \n24                                      San Diego| CA    37     4.5   \n25  About 16 Km Northwest of San Diego Girard and ...    12     4.5   \n26                                San Diego| CA 92109    38     4.5   \n27  1492 N Harbor Dr Discovery Pier| San Diego| CA...    18     4.5   \n28  Coast Highway Ellen Browning Scripps Park| La ...    15     4.5   \n29                        Grand Avenue| San Diego| CA    24     4.5   \n\n    Number_of_Reviews                                              Label  \n0               24839                                  Specialty Museums  \n1                2448  Historic Sites| Points of Interest & Landmarks...  \n2               13449                                     Beaches| Parks  \n3               27726                                               Zoos  \n4                2448  Historic Sites| Points of Interest & Landmarks...  \n5               12853                        Parks| Gardens| Playgrounds  \n6                2695                                     Beaches| Parks  \n7                1437                                  Educational sites  \n8                1340                                            Beaches  \n9                2073                                              Parks  \n10               1897                 Natural History Museums| Aquariums  \n11                726                                    Caverns & Caves  \n12               4436                Sports Complexes| Arenas & Stadiums  \n13                578                                            Beaches  \n14                118                                     Shopping Malls  \n15               3736  State Parks| Nature & Wildlife Areas| Hiking T...  \n16               4815                                Monuments & Statues  \n17                311                           Sacred & Religious Sites  \n18               5751                                            Bridges  \n19                207                                              Parks  \n20                231  Points of Interest & Landmarks| Architectural ...  \n21               1917        Historic Walking Areas| Geologic Formations  \n22               2005                                      Neighborhoods  \n23                337                                  Educational sites  \n24               1748                     Points of Interest & Landmarks  \n25                286      Neighborhoods| Points of Interest & Landmarks  \n26               2027                                            Beaches  \n27               1744                           Specialty Museums| Ships  \n28                169                            Nature & Wildlife Areas  \n29               1270                                            Beaches  ",
      "text/html": "<div>\n<style scoped>\n    .dataframe tbody tr th:only-of-type {\n        vertical-align: middle;\n    }\n\n    .dataframe tbody tr th {\n        vertical-align: top;\n    }\n\n    .dataframe thead th {\n        text-align: right;\n    }\n</style>\n<table border=\"1\" class=\"dataframe\">\n  <thead>\n    <tr style=\"text-align: right;\">\n      <th></th>\n      <th>Attraction</th>\n      <th>Address</th>\n      <th>Rank</th>\n      <th>Rating</th>\n      <th>Number_of_Reviews</th>\n      <th>Label</th>\n    </tr>\n  </thead>\n  <tbody>\n    <tr>\n      <td>0</td>\n      <td>USS Midway Museum</td>\n      <td>910 N Harbor Drive| San Diego| CA 92101-5811</td>\n      <td>1</td>\n      <td>5.0</td>\n      <td>24839</td>\n      <td>Specialty Museums</td>\n    </tr>\n    <tr>\n      <td>1</td>\n      <td>Mt. Soledad National Veterans Memorial</td>\n      <td>6905 La Jolla Scenic Drive South| La Jolla| Sa...</td>\n      <td>2</td>\n      <td>5.0</td>\n      <td>2448</td>\n      <td>Historic Sites| Points of Interest &amp; Landmarks...</td>\n    </tr>\n    <tr>\n      <td>2</td>\n      <td>La Jolla Cove</td>\n      <td>1100 Coast Blvd| La Jolla| San Diego| CA 92037...</td>\n      <td>1</td>\n      <td>4.5</td>\n      <td>13449</td>\n      <td>Beaches| Parks</td>\n    </tr>\n    <tr>\n      <td>3</td>\n      <td>San Diego Zoo</td>\n      <td>2929 Zoo Drive Balboa Park| San Diego| CA 92101</td>\n      <td>4</td>\n      <td>4.5</td>\n      <td>27726</td>\n      <td>Zoos</td>\n    </tr>\n    <tr>\n      <td>4</td>\n      <td>Mt. Soledad National Veterans Memorial</td>\n      <td>6905 La Jolla Scenic Drive South| La Jolla| Sa...</td>\n      <td>2</td>\n      <td>4.5</td>\n      <td>2448</td>\n      <td>Historic Sites| Points of Interest &amp; Landmarks...</td>\n    </tr>\n    <tr>\n      <td>5</td>\n      <td>Balboa Park</td>\n      <td>1549 El Prado| San Diego| CA 92101-1660</td>\n      <td>3</td>\n      <td>4.5</td>\n      <td>12853</td>\n      <td>Parks| Gardens| Playgrounds</td>\n    </tr>\n    <tr>\n      <td>6</td>\n      <td>La Jolla Shores Park</td>\n      <td>8300 Camino del Oro| La Jolla| San Diego| CA 9...</td>\n      <td>7</td>\n      <td>4.5</td>\n      <td>2695</td>\n      <td>Beaches| Parks</td>\n    </tr>\n    <tr>\n      <td>7</td>\n      <td>Torrey Pines Gliderport</td>\n      <td>2800 Torrey Pines Scenic Dr| La Jolla| San Die...</td>\n      <td>4</td>\n      <td>4.5</td>\n      <td>1437</td>\n      <td>Educational sites</td>\n    </tr>\n    <tr>\n      <td>8</td>\n      <td>Children's Pool</td>\n      <td>850 Coast Blvd| La Jolla| San Diego| CA 92037-...</td>\n      <td>10</td>\n      <td>4.5</td>\n      <td>1340</td>\n      <td>Beaches</td>\n    </tr>\n    <tr>\n      <td>9</td>\n      <td>Sunset Cliffs Natural Park</td>\n      <td>1253 Sunset Cliffs Blvd| San Diego| CA 92107-4015</td>\n      <td>10</td>\n      <td>4.5</td>\n      <td>2073</td>\n      <td>Parks</td>\n    </tr>\n    <tr>\n      <td>10</td>\n      <td>Birch Aquarium at Scripps</td>\n      <td>2300 Expedition Way Scripps Institute| La Joll...</td>\n      <td>14</td>\n      <td>4.5</td>\n      <td>1897</td>\n      <td>Natural History Museums| Aquariums</td>\n    </tr>\n    <tr>\n      <td>11</td>\n      <td>La Jolla Caves</td>\n      <td>La Jolla| San Diego| CA</td>\n      <td>11</td>\n      <td>4.5</td>\n      <td>726</td>\n      <td>Caverns &amp; Caves</td>\n    </tr>\n    <tr>\n      <td>12</td>\n      <td>Petco Park</td>\n      <td>100 Park Blvd| San Diego| CA 92101-7405</td>\n      <td>8</td>\n      <td>4.5</td>\n      <td>4436</td>\n      <td>Sports Complexes| Arenas &amp; Stadiums</td>\n    </tr>\n    <tr>\n      <td>13</td>\n      <td>Windansea Beach</td>\n      <td>6800 Neptune Place| La Jolla| San Diego| CA 92083</td>\n      <td>5</td>\n      <td>4.5</td>\n      <td>578</td>\n      <td>Beaches</td>\n    </tr>\n    <tr>\n      <td>14</td>\n      <td>San Diego Factory Outlet Center</td>\n      <td>Camino de la Plaza at Highway I-5| San Diego| CA</td>\n      <td>80</td>\n      <td>4.0</td>\n      <td>118</td>\n      <td>Shopping Malls</td>\n    </tr>\n    <tr>\n      <td>15</td>\n      <td>Torrey Pines State Natural Reserve</td>\n      <td>12600 N Torrey Pines Rd| San Diego| CA 92037</td>\n      <td>5</td>\n      <td>4.5</td>\n      <td>3736</td>\n      <td>State Parks| Nature &amp; Wildlife Areas| Hiking T...</td>\n    </tr>\n    <tr>\n      <td>16</td>\n      <td>Cabrillo National Monument</td>\n      <td>1800 Cabrillo Memorial Dr Point Loma| San Dieg...</td>\n      <td>14</td>\n      <td>4.5</td>\n      <td>4815</td>\n      <td>Monuments &amp; Statues</td>\n    </tr>\n    <tr>\n      <td>17</td>\n      <td>San Diego Mormon Temple</td>\n      <td>7474 Charmant Dr| La Jolla| San Diego| CA 9212...</td>\n      <td>13</td>\n      <td>4.5</td>\n      <td>311</td>\n      <td>Sacred &amp; Religious Sites</td>\n    </tr>\n    <tr>\n      <td>18</td>\n      <td>Coronado Bridge</td>\n      <td>State Route 75 South Embarcadero| San Diego| C...</td>\n      <td>28</td>\n      <td>4.5</td>\n      <td>5751</td>\n      <td>Bridges</td>\n    </tr>\n    <tr>\n      <td>19</td>\n      <td>Ellen Browning Scripps Park</td>\n      <td>1133 Coast Blvd| La Jolla| San Diego| CA 92037...</td>\n      <td>6</td>\n      <td>4.5</td>\n      <td>207</td>\n      <td>Parks</td>\n    </tr>\n    <tr>\n      <td>20</td>\n      <td>Salk Institute</td>\n      <td>10010 N Torrey Pines Rd| La Jolla| San Diego| ...</td>\n      <td>9</td>\n      <td>4.5</td>\n      <td>231</td>\n      <td>Points of Interest &amp; Landmarks| Architectural ...</td>\n    </tr>\n    <tr>\n      <td>21</td>\n      <td>Point Loma</td>\n      <td>San Diego| CA</td>\n      <td>13</td>\n      <td>4.5</td>\n      <td>1917</td>\n      <td>Historic Walking Areas| Geologic Formations</td>\n    </tr>\n    <tr>\n      <td>22</td>\n      <td>Little Italy</td>\n      <td>1668 Columbia St From Laurel south to West A S...</td>\n      <td>45</td>\n      <td>4.5</td>\n      <td>2005</td>\n      <td>Neighborhoods</td>\n    </tr>\n    <tr>\n      <td>23</td>\n      <td>University of California San Diego</td>\n      <td>9500 Gilman Dr| La Jolla| San Diego| CA 92093-...</td>\n      <td>8</td>\n      <td>4.5</td>\n      <td>337</td>\n      <td>Educational sites</td>\n    </tr>\n    <tr>\n      <td>24</td>\n      <td>Old Town San Diego</td>\n      <td>San Diego| CA</td>\n      <td>37</td>\n      <td>4.5</td>\n      <td>1748</td>\n      <td>Points of Interest &amp; Landmarks</td>\n    </tr>\n    <tr>\n      <td>25</td>\n      <td>Girard Avenue and Prospect Street</td>\n      <td>About 16 Km Northwest of San Diego Girard and ...</td>\n      <td>12</td>\n      <td>4.5</td>\n      <td>286</td>\n      <td>Neighborhoods| Points of Interest &amp; Landmarks</td>\n    </tr>\n    <tr>\n      <td>26</td>\n      <td>Mission Beach</td>\n      <td>San Diego| CA 92109</td>\n      <td>38</td>\n      <td>4.5</td>\n      <td>2027</td>\n      <td>Beaches</td>\n    </tr>\n    <tr>\n      <td>27</td>\n      <td>Maritime Museum of San Diego</td>\n      <td>1492 N Harbor Dr Discovery Pier| San Diego| CA...</td>\n      <td>18</td>\n      <td>4.5</td>\n      <td>1744</td>\n      <td>Specialty Museums| Ships</td>\n    </tr>\n    <tr>\n      <td>28</td>\n      <td>Shell Beach Tide Pools</td>\n      <td>Coast Highway Ellen Browning Scripps Park| La ...</td>\n      <td>15</td>\n      <td>4.5</td>\n      <td>169</td>\n      <td>Nature &amp; Wildlife Areas</td>\n    </tr>\n    <tr>\n      <td>29</td>\n      <td>Pacific Beach</td>\n      <td>Grand Avenue| San Diego| CA</td>\n      <td>24</td>\n      <td>4.5</td>\n      <td>1270</td>\n      <td>Beaches</td>\n    </tr>\n  </tbody>\n</table>\n</div>"
     },
     "metadata": {},
     "execution_count": 31
    }
   ],
   "source": [
    "df = pd.read_csv('San_Diego.csv')\n",
    "df"
   ]
  },
  {
   "cell_type": "code",
   "execution_count": 32,
   "metadata": {},
   "outputs": [],
   "source": [
    "df.reset_index(inplace = True )"
   ]
  },
  {
   "cell_type": "code",
   "execution_count": 33,
   "metadata": {},
   "outputs": [
    {
     "output_type": "execute_result",
     "data": {
      "text/plain": "Index(['index', 'Attraction', 'Address', 'Rank', 'Rating', 'Number_of_Reviews',\n       'Label'],\n      dtype='object')"
     },
     "metadata": {},
     "execution_count": 33
    }
   ],
   "source": [
    "df.columns"
   ]
  },
  {
   "cell_type": "code",
   "execution_count": 39,
   "metadata": {},
   "outputs": [
    {
     "output_type": "execute_result",
     "data": {
      "text/plain": "0                                     Specialty Museums\n1     Historic Sites| Points of Interest & Landmarks...\n2                                        Beaches| Parks\n3                                                  Zoos\n4     Historic Sites| Points of Interest & Landmarks...\n5                           Parks| Gardens| Playgrounds\n6                                        Beaches| Parks\n7                                     Educational sites\n8                                               Beaches\n9                                                 Parks\n10                   Natural History Museums| Aquariums\n11                                      Caverns & Caves\n12                  Sports Complexes| Arenas & Stadiums\n13                                              Beaches\n14                                       Shopping Malls\n15    State Parks| Nature & Wildlife Areas| Hiking T...\n16                                  Monuments & Statues\n17                             Sacred & Religious Sites\n18                                              Bridges\n19                                                Parks\n20    Points of Interest & Landmarks| Architectural ...\n21          Historic Walking Areas| Geologic Formations\n22                                        Neighborhoods\n23                                    Educational sites\n24                       Points of Interest & Landmarks\n25        Neighborhoods| Points of Interest & Landmarks\n26                                              Beaches\n27                             Specialty Museums| Ships\n28                              Nature & Wildlife Areas\n29                                              Beaches\nName: Label, dtype: object"
     },
     "metadata": {},
     "execution_count": 39
    }
   ],
   "source": [
    "df['Label']"
   ]
  },
  {
   "cell_type": "code",
   "execution_count": null,
   "metadata": {},
   "outputs": [],
   "source": []
  }
 ],
 "metadata": {
  "language_info": {
   "codemirror_mode": {
    "name": "ipython",
    "version": 3
   },
   "file_extension": ".py",
   "mimetype": "text/x-python",
   "name": "python",
   "nbconvert_exporter": "python",
   "pygments_lexer": "ipython3",
   "version": "3.6.9-final"
  },
  "orig_nbformat": 2,
  "kernelspec": {
   "name": "python36964bitlearnenvconda20d18a491eb34b2d993dc02b8702d9af",
   "display_name": "Python 3.6.9 64-bit ('learn-env': conda)"
  }
 },
 "nbformat": 4,
 "nbformat_minor": 2
}